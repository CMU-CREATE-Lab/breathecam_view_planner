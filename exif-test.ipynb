{
 "cells": [
  {
   "cell_type": "code",
   "execution_count": null,
   "metadata": {},
   "outputs": [],
   "source": [
    "from gsheet import GSheet\n",
    "import pandas as pd\n"
   ]
  },
  {
   "cell_type": "code",
   "execution_count": null,
   "metadata": {},
   "outputs": [],
   "source": [
    "breathecam_field_of_views_google_sheet = \"https://docs.google.com/spreadsheets/d/1qMLQ5kxYl8Y-hC1WeiLEzfPdcKy6rdpjBc-hGy55MuI/edit#gid=0\"\n",
    "\n",
    "fovs_sheet = GSheet.from_url(breathecam_field_of_views_google_sheet)\n",
    "# fovs_sheet\n",
    "\n",
    "fovs_df = pd.read_csv(\n",
    "                fovs_sheet.get_csv_export_url(),\n",
    "                keep_default_na=False,\n",
    "                skip_blank_lines=False\n",
    "                #dtype={'Enabled':str,'Share link identifier':str, 'Start date':str, 'End date': str}\n",
    ")\n",
    "fovs_df = fovs_df[fovs_df.Name != \"\"]\n",
    "fovs_df"
   ]
  },
  {
   "cell_type": "code",
   "execution_count": null,
   "metadata": {},
   "outputs": [],
   "source": [
    "fovs_df.to_dict(orient=\"records\")"
   ]
  },
  {
   "cell_type": "code",
   "execution_count": null,
   "metadata": {},
   "outputs": [],
   "source": [
    "import exifutil\n",
    "import exif\n",
    "image = exif.Image(\"image/1.jpg\")\n",
    "print(exifutil.exif_summary(image))\n",
    "image = exif.Image(\"image/2.jpg\")\n",
    "print(exifutil.exif_summary(image))\n"
   ]
  },
  {
   "cell_type": "code",
   "execution_count": null,
   "metadata": {},
   "outputs": [],
   "source": [
    "dir(image)\n",
    "print(len(image.maker_note))"
   ]
  },
  {
   "cell_type": "code",
   "execution_count": null,
   "metadata": {},
   "outputs": [],
   "source": [
    "image.image_width, image.image_height"
   ]
  },
  {
   "cell_type": "code",
   "execution_count": null,
   "metadata": {},
   "outputs": [],
   "source": [
    "float(\"7 mm\".split()[0])"
   ]
  },
  {
   "cell_type": "code",
   "execution_count": null,
   "metadata": {},
   "outputs": [],
   "source": []
  }
 ],
 "metadata": {
  "kernelspec": {
   "display_name": "Python 3.10.8 ('.venv': venv)",
   "language": "python",
   "name": "python3"
  },
  "language_info": {
   "codemirror_mode": {
    "name": "ipython",
    "version": 3
   },
   "file_extension": ".py",
   "mimetype": "text/x-python",
   "name": "python",
   "nbconvert_exporter": "python",
   "pygments_lexer": "ipython3",
   "version": "3.10.9"
  },
  "vscode": {
   "interpreter": {
    "hash": "8fc2633b956244d5230b12334e00a609f0c5fe8bd54f9f71640d0d509c46027d"
   }
  }
 },
 "nbformat": 4,
 "nbformat_minor": 2
}
